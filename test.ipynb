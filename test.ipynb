{
 "cells": [
  {
   "cell_type": "code",
   "execution_count": 1,
   "metadata": {},
   "outputs": [],
   "source": [
    "import torch.nn as nn\n",
    "import torch"
   ]
  },
  {
   "cell_type": "code",
   "execution_count": 2,
   "metadata": {},
   "outputs": [],
   "source": [
    "emb = nn.Embedding(100,15)"
   ]
  },
  {
   "cell_type": "code",
   "execution_count": 8,
   "metadata": {},
   "outputs": [
    {
     "data": {
      "text/plain": [
       "tensor([[ 0.0905,  0.0699,  0.0238,  ...,  0.6114,  0.2335,  0.3044],\n",
       "        [ 0.3652,  0.6960,  0.0066,  ...,  0.0072,  0.4988,  0.9988],\n",
       "        [ 0.9611,  0.8102,  0.7176,  ...,  0.2732,  0.0307,  0.1005],\n",
       "        ...,\n",
       "        [ 0.2386,  0.1531,  0.3654,  ...,  0.4095,  0.4845,  0.7261],\n",
       "        [ 0.1205,  0.0892,  0.4486,  ...,  0.9566,  0.2704,  0.8206],\n",
       "        [ 0.3314,  0.7174,  0.5715,  ...,  0.0409,  0.0911,  0.8973]])"
      ]
     },
     "execution_count": 8,
     "metadata": {},
     "output_type": "execute_result"
    }
   ],
   "source": [
    "emb.weight.data.uniform_()"
   ]
  },
  {
   "cell_type": "code",
   "execution_count": 11,
   "metadata": {},
   "outputs": [
    {
     "data": {
      "text/plain": [
       "tensor([[ 0.0905,  0.0699,  0.0238,  ...,  0.6114,  0.2335,  0.3044],\n",
       "        [ 0.3652,  0.6960,  0.0066,  ...,  0.0072,  0.4988,  0.9988],\n",
       "        [ 0.9611,  0.8102,  0.7176,  ...,  0.2732,  0.0307,  0.1005],\n",
       "        ...,\n",
       "        [ 0.2386,  0.1531,  0.3654,  ...,  0.4095,  0.4845,  0.7261],\n",
       "        [ 0.1205,  0.0892,  0.4486,  ...,  0.9566,  0.2704,  0.8206],\n",
       "        [ 0.3314,  0.7174,  0.5715,  ...,  0.0409,  0.0911,  0.8973]])"
      ]
     },
     "execution_count": 11,
     "metadata": {},
     "output_type": "execute_result"
    }
   ],
   "source": [
    "emb.weight.data"
   ]
  },
  {
   "cell_type": "code",
   "execution_count": 12,
   "metadata": {},
   "outputs": [
    {
     "data": {
      "text/plain": [
       "True"
      ]
     },
     "execution_count": 12,
     "metadata": {},
     "output_type": "execute_result"
    }
   ],
   "source": [
    "emb.weight.requires_grad"
   ]
  },
  {
   "cell_type": "code",
   "execution_count": 24,
   "metadata": {},
   "outputs": [],
   "source": [
    "u_pos = torch.LongTensor([[0,2],[1,2]])\n",
    "v_pos = torch.LongTensor([[0,2],[1,2]])"
   ]
  },
  {
   "cell_type": "code",
   "execution_count": 26,
   "metadata": {},
   "outputs": [
    {
     "ename": "RuntimeError",
     "evalue": "invalid argument 2: wrong matrix size, batch1: 2x15, batch2: 2x15 at /pytorch/aten/src/TH/generic/THTensorMath.c:2275",
     "output_type": "error",
     "traceback": [
      "\u001b[0;31m---------------------------------------------------------------------------\u001b[0m",
      "\u001b[0;31mRuntimeError\u001b[0m                              Traceback (most recent call last)",
      "\u001b[0;32m<ipython-input-26-dd4413fd5ddc>\u001b[0m in \u001b[0;36m<module>\u001b[0;34m()\u001b[0m\n\u001b[0;32m----> 1\u001b[0;31m \u001b[0mtorch\u001b[0m\u001b[0;34m.\u001b[0m\u001b[0mbmm\u001b[0m\u001b[0;34m(\u001b[0m\u001b[0memb\u001b[0m\u001b[0;34m(\u001b[0m\u001b[0mu_pos\u001b[0m\u001b[0;34m)\u001b[0m\u001b[0;34m,\u001b[0m\u001b[0memb\u001b[0m\u001b[0;34m(\u001b[0m\u001b[0mu_pos\u001b[0m\u001b[0;34m)\u001b[0m\u001b[0;34m)\u001b[0m\u001b[0;34m\u001b[0m\u001b[0m\n\u001b[0m",
      "\u001b[0;31mRuntimeError\u001b[0m: invalid argument 2: wrong matrix size, batch1: 2x15, batch2: 2x15 at /pytorch/aten/src/TH/generic/THTensorMath.c:2275"
     ]
    }
   ],
   "source": [
    "torch.bmm(emb(u_pos),emb(u_pos))"
   ]
  },
  {
   "cell_type": "code",
   "execution_count": 28,
   "metadata": {},
   "outputs": [],
   "source": [
    "u = emb(u_pos)"
   ]
  },
  {
   "cell_type": "code",
   "execution_count": 34,
   "metadata": {},
   "outputs": [],
   "source": [
    "res = torch.bmm(u,torch.transpose(u,1,2))"
   ]
  },
  {
   "cell_type": "code",
   "execution_count": 35,
   "metadata": {},
   "outputs": [
    {
     "data": {
      "text/plain": [
       "torch.Size([2, 2, 2])"
      ]
     },
     "execution_count": 35,
     "metadata": {},
     "output_type": "execute_result"
    }
   ],
   "source": [
    "res.shape"
   ]
  },
  {
   "cell_type": "code",
   "execution_count": null,
   "metadata": {},
   "outputs": [],
   "source": []
  }
 ],
 "metadata": {
  "kernelspec": {
   "display_name": "py3-gpu",
   "language": "python",
   "name": "py3-gpu"
  },
  "language_info": {
   "codemirror_mode": {
    "name": "ipython",
    "version": 3
   },
   "file_extension": ".py",
   "mimetype": "text/x-python",
   "name": "python",
   "nbconvert_exporter": "python",
   "pygments_lexer": "ipython3",
   "version": "3.5.2"
  }
 },
 "nbformat": 4,
 "nbformat_minor": 2
}
